{
 "cells": [
  {
   "cell_type": "markdown",
   "id": "10c8a828",
   "metadata": {},
   "source": [
    "About this file:\n",
    "\n",
    "Car Evaluation Database was derived from a simple hierarchical decision model originally developed for the demonstration of DEX, M. Bohanec, V. Rajkovic: Expert system for decision making. Sistemica 1(1), pp. 145-157, 1990.). The model evaluates cars according to the following concept structure:\n",
    "\n",
    "CAR car acceptability\n",
    ". PRICE overall price\n",
    ". . buying buying price\n",
    ". . maint price of the maintenance\n",
    ". TECH technical characteristics\n",
    ". . COMFORT comfort\n",
    ". . . doors number of doors\n",
    ". . . persons capacity in terms of persons to carry\n",
    ". . . lug_boot the size of luggage boot\n",
    ". . safety estimated safety of the car\n",
    "\n",
    "Input attributes are printed in lowercase. Besides the target concept (CAR), the model includes three intermediate concepts: PRICE, TECH, COMFORT. Every concept is in the original model related to its lower level descendants by a set of examples (for these examples sets see [Web Link]).\n",
    "\n",
    "The Car Evaluation Database contains examples with the structural information removed, i.e., directly relates CAR to the six input attributes: buying, maint, doors, persons, lug_boot, safety.\n",
    "\n",
    "Because of known underlying concept structure, this database may be particularly useful for testing constructive induction and structure discovery methods.\n",
    "\n",
    "Attribute Information:\n",
    "\n",
    "Class Values:\n",
    "\n",
    "unacc, acc, good, vgood\n",
    "\n",
    "Attributes:\n",
    "\n",
    "buying: vhigh, high, med, low.\n",
    "maint: vhigh, high, med, low.\n",
    "doors: 2, 3, 4, 5more.\n",
    "persons: 2, 4, more.\n",
    "lug_boot: small, med, big.\n",
    "safety: low, med, high."
   ]
  },
  {
   "cell_type": "markdown",
   "id": "f04fdbe3",
   "metadata": {},
   "source": [
    "## Import libraries"
   ]
  },
  {
   "cell_type": "code",
   "execution_count": 63,
   "id": "638dc17e",
   "metadata": {},
   "outputs": [],
   "source": [
    "import numpy as np\n",
    "import pandas as pd\n",
    "import matplotlib.pyplot as plt\n",
    "import seaborn as sns\n",
    "\n",
    "from sklearn.model_selection import train_test_split\n",
    "from sklearn.preprocessing import LabelEncoder,OrdinalEncoder\n",
    "from sklearn.tree import DecisionTreeClassifier\n",
    "from sklearn.metrics import accuracy_score,confusion_matrix,classification_report\n",
    "from sklearn import tree\n",
    "\n",
    "import warnings\n",
    "warnings.filterwarnings('ignore')\n",
    "%matplotlib inline"
   ]
  },
  {
   "cell_type": "markdown",
   "id": "ed024454",
   "metadata": {},
   "source": [
    "## Import Dataset"
   ]
  },
  {
   "cell_type": "code",
   "execution_count": 4,
   "id": "533979a6",
   "metadata": {},
   "outputs": [],
   "source": [
    "df = pd.read_csv('car_evaluation.csv',header=None)"
   ]
  },
  {
   "cell_type": "markdown",
   "id": "c6873740",
   "metadata": {},
   "source": [
    "## Exploratory data analysis"
   ]
  },
  {
   "cell_type": "code",
   "execution_count": 5,
   "id": "69abccd6",
   "metadata": {},
   "outputs": [
    {
     "data": {
      "text/html": [
       "<div>\n",
       "<style scoped>\n",
       "    .dataframe tbody tr th:only-of-type {\n",
       "        vertical-align: middle;\n",
       "    }\n",
       "\n",
       "    .dataframe tbody tr th {\n",
       "        vertical-align: top;\n",
       "    }\n",
       "\n",
       "    .dataframe thead th {\n",
       "        text-align: right;\n",
       "    }\n",
       "</style>\n",
       "<table border=\"1\" class=\"dataframe\">\n",
       "  <thead>\n",
       "    <tr style=\"text-align: right;\">\n",
       "      <th></th>\n",
       "      <th>0</th>\n",
       "      <th>1</th>\n",
       "      <th>2</th>\n",
       "      <th>3</th>\n",
       "      <th>4</th>\n",
       "      <th>5</th>\n",
       "      <th>6</th>\n",
       "    </tr>\n",
       "  </thead>\n",
       "  <tbody>\n",
       "    <tr>\n",
       "      <th>0</th>\n",
       "      <td>vhigh</td>\n",
       "      <td>vhigh</td>\n",
       "      <td>2</td>\n",
       "      <td>2</td>\n",
       "      <td>small</td>\n",
       "      <td>low</td>\n",
       "      <td>unacc</td>\n",
       "    </tr>\n",
       "    <tr>\n",
       "      <th>1</th>\n",
       "      <td>vhigh</td>\n",
       "      <td>vhigh</td>\n",
       "      <td>2</td>\n",
       "      <td>2</td>\n",
       "      <td>small</td>\n",
       "      <td>med</td>\n",
       "      <td>unacc</td>\n",
       "    </tr>\n",
       "    <tr>\n",
       "      <th>2</th>\n",
       "      <td>vhigh</td>\n",
       "      <td>vhigh</td>\n",
       "      <td>2</td>\n",
       "      <td>2</td>\n",
       "      <td>small</td>\n",
       "      <td>high</td>\n",
       "      <td>unacc</td>\n",
       "    </tr>\n",
       "    <tr>\n",
       "      <th>3</th>\n",
       "      <td>vhigh</td>\n",
       "      <td>vhigh</td>\n",
       "      <td>2</td>\n",
       "      <td>2</td>\n",
       "      <td>med</td>\n",
       "      <td>low</td>\n",
       "      <td>unacc</td>\n",
       "    </tr>\n",
       "    <tr>\n",
       "      <th>4</th>\n",
       "      <td>vhigh</td>\n",
       "      <td>vhigh</td>\n",
       "      <td>2</td>\n",
       "      <td>2</td>\n",
       "      <td>med</td>\n",
       "      <td>med</td>\n",
       "      <td>unacc</td>\n",
       "    </tr>\n",
       "  </tbody>\n",
       "</table>\n",
       "</div>"
      ],
      "text/plain": [
       "       0      1  2  3      4     5      6\n",
       "0  vhigh  vhigh  2  2  small   low  unacc\n",
       "1  vhigh  vhigh  2  2  small   med  unacc\n",
       "2  vhigh  vhigh  2  2  small  high  unacc\n",
       "3  vhigh  vhigh  2  2    med   low  unacc\n",
       "4  vhigh  vhigh  2  2    med   med  unacc"
      ]
     },
     "execution_count": 5,
     "metadata": {},
     "output_type": "execute_result"
    }
   ],
   "source": [
    "# preview the dataset\n",
    "\n",
    "df.head()"
   ]
  },
  {
   "cell_type": "markdown",
   "id": "5e50a030",
   "metadata": {},
   "source": [
    "We can see that the dataset does not have proper column names. We will add it as follows."
   ]
  },
  {
   "cell_type": "code",
   "execution_count": 6,
   "id": "cf86fc21",
   "metadata": {},
   "outputs": [
    {
     "data": {
      "text/html": [
       "<div>\n",
       "<style scoped>\n",
       "    .dataframe tbody tr th:only-of-type {\n",
       "        vertical-align: middle;\n",
       "    }\n",
       "\n",
       "    .dataframe tbody tr th {\n",
       "        vertical-align: top;\n",
       "    }\n",
       "\n",
       "    .dataframe thead th {\n",
       "        text-align: right;\n",
       "    }\n",
       "</style>\n",
       "<table border=\"1\" class=\"dataframe\">\n",
       "  <thead>\n",
       "    <tr style=\"text-align: right;\">\n",
       "      <th></th>\n",
       "      <th>buying</th>\n",
       "      <th>maint</th>\n",
       "      <th>doors</th>\n",
       "      <th>persons</th>\n",
       "      <th>lug_boot</th>\n",
       "      <th>safety</th>\n",
       "      <th>class</th>\n",
       "    </tr>\n",
       "  </thead>\n",
       "  <tbody>\n",
       "    <tr>\n",
       "      <th>0</th>\n",
       "      <td>vhigh</td>\n",
       "      <td>vhigh</td>\n",
       "      <td>2</td>\n",
       "      <td>2</td>\n",
       "      <td>small</td>\n",
       "      <td>low</td>\n",
       "      <td>unacc</td>\n",
       "    </tr>\n",
       "    <tr>\n",
       "      <th>1</th>\n",
       "      <td>vhigh</td>\n",
       "      <td>vhigh</td>\n",
       "      <td>2</td>\n",
       "      <td>2</td>\n",
       "      <td>small</td>\n",
       "      <td>med</td>\n",
       "      <td>unacc</td>\n",
       "    </tr>\n",
       "    <tr>\n",
       "      <th>2</th>\n",
       "      <td>vhigh</td>\n",
       "      <td>vhigh</td>\n",
       "      <td>2</td>\n",
       "      <td>2</td>\n",
       "      <td>small</td>\n",
       "      <td>high</td>\n",
       "      <td>unacc</td>\n",
       "    </tr>\n",
       "    <tr>\n",
       "      <th>3</th>\n",
       "      <td>vhigh</td>\n",
       "      <td>vhigh</td>\n",
       "      <td>2</td>\n",
       "      <td>2</td>\n",
       "      <td>med</td>\n",
       "      <td>low</td>\n",
       "      <td>unacc</td>\n",
       "    </tr>\n",
       "    <tr>\n",
       "      <th>4</th>\n",
       "      <td>vhigh</td>\n",
       "      <td>vhigh</td>\n",
       "      <td>2</td>\n",
       "      <td>2</td>\n",
       "      <td>med</td>\n",
       "      <td>med</td>\n",
       "      <td>unacc</td>\n",
       "    </tr>\n",
       "  </tbody>\n",
       "</table>\n",
       "</div>"
      ],
      "text/plain": [
       "  buying  maint doors persons lug_boot safety  class\n",
       "0  vhigh  vhigh     2       2    small    low  unacc\n",
       "1  vhigh  vhigh     2       2    small    med  unacc\n",
       "2  vhigh  vhigh     2       2    small   high  unacc\n",
       "3  vhigh  vhigh     2       2      med    low  unacc\n",
       "4  vhigh  vhigh     2       2      med    med  unacc"
      ]
     },
     "execution_count": 6,
     "metadata": {},
     "output_type": "execute_result"
    }
   ],
   "source": [
    "# rename the column\n",
    "\n",
    "col_names = ['buying','maint','doors','persons','lug_boot','safety','class']\n",
    "df.columns = col_names\n",
    "\n",
    "# let's again preview the dataset\n",
    "\n",
    "df.head()"
   ]
  },
  {
   "cell_type": "code",
   "execution_count": 7,
   "id": "472708d7",
   "metadata": {},
   "outputs": [
    {
     "data": {
      "text/plain": [
       "(1728, 7)"
      ]
     },
     "execution_count": 7,
     "metadata": {},
     "output_type": "execute_result"
    }
   ],
   "source": [
    "# view the dimension of the dataset\n",
    "\n",
    "df.shape"
   ]
  },
  {
   "cell_type": "markdown",
   "id": "a2705d9f",
   "metadata": {},
   "source": [
    "We can see that there are 1728 instances and 7 variables in the data set."
   ]
  },
  {
   "cell_type": "code",
   "execution_count": 8,
   "id": "966713e1",
   "metadata": {},
   "outputs": [
    {
     "name": "stdout",
     "output_type": "stream",
     "text": [
      "<class 'pandas.core.frame.DataFrame'>\n",
      "RangeIndex: 1728 entries, 0 to 1727\n",
      "Data columns (total 7 columns):\n",
      " #   Column    Non-Null Count  Dtype \n",
      "---  ------    --------------  ----- \n",
      " 0   buying    1728 non-null   object\n",
      " 1   maint     1728 non-null   object\n",
      " 2   doors     1728 non-null   object\n",
      " 3   persons   1728 non-null   object\n",
      " 4   lug_boot  1728 non-null   object\n",
      " 5   safety    1728 non-null   object\n",
      " 6   class     1728 non-null   object\n",
      "dtypes: object(7)\n",
      "memory usage: 94.6+ KB\n"
     ]
    }
   ],
   "source": [
    "# view summary of dataset\n",
    "\n",
    "df.info()"
   ]
  },
  {
   "cell_type": "code",
   "execution_count": 9,
   "id": "2ac9bf6f",
   "metadata": {},
   "outputs": [
    {
     "data": {
      "text/plain": [
       "buying      0\n",
       "maint       0\n",
       "doors       0\n",
       "persons     0\n",
       "lug_boot    0\n",
       "safety      0\n",
       "class       0\n",
       "dtype: int64"
      ]
     },
     "execution_count": 9,
     "metadata": {},
     "output_type": "execute_result"
    }
   ],
   "source": [
    "# check for the missing values in the dataset\n",
    "\n",
    "df.isnull().sum()"
   ]
  },
  {
   "cell_type": "code",
   "execution_count": 10,
   "id": "99ebc5ba",
   "metadata": {},
   "outputs": [
    {
     "name": "stdout",
     "output_type": "stream",
     "text": [
      "Column_Name : buying\n",
      "vhigh    432\n",
      "high     432\n",
      "med      432\n",
      "low      432\n",
      "Name: buying, dtype: int64 \n",
      "\n",
      "Column_Name : maint\n",
      "vhigh    432\n",
      "high     432\n",
      "med      432\n",
      "low      432\n",
      "Name: maint, dtype: int64 \n",
      "\n",
      "Column_Name : doors\n",
      "2        432\n",
      "3        432\n",
      "4        432\n",
      "5more    432\n",
      "Name: doors, dtype: int64 \n",
      "\n",
      "Column_Name : persons\n",
      "2       576\n",
      "4       576\n",
      "more    576\n",
      "Name: persons, dtype: int64 \n",
      "\n",
      "Column_Name : lug_boot\n",
      "small    576\n",
      "med      576\n",
      "big      576\n",
      "Name: lug_boot, dtype: int64 \n",
      "\n",
      "Column_Name : safety\n",
      "low     576\n",
      "med     576\n",
      "high    576\n",
      "Name: safety, dtype: int64 \n",
      "\n",
      "Column_Name : class\n",
      "unacc    1210\n",
      "acc       384\n",
      "good       69\n",
      "vgood      65\n",
      "Name: class, dtype: int64 \n",
      "\n"
     ]
    }
   ],
   "source": [
    "# frequency distribution of values in variables\n",
    "\n",
    "for i in col_names:\n",
    "    print('Column_Name :',i)\n",
    "    print(df[i].value_counts(),'\\n')"
   ]
  },
  {
   "cell_type": "code",
   "execution_count": 22,
   "id": "e6e1ad63",
   "metadata": {},
   "outputs": [],
   "source": [
    "# declare feature vector and target variable\n",
    "\n",
    "X = df.drop('class',axis=1)\n",
    "y = df['class']"
   ]
  },
  {
   "cell_type": "code",
   "execution_count": 23,
   "id": "0eb9ab98",
   "metadata": {},
   "outputs": [
    {
     "data": {
      "text/html": [
       "<div>\n",
       "<style scoped>\n",
       "    .dataframe tbody tr th:only-of-type {\n",
       "        vertical-align: middle;\n",
       "    }\n",
       "\n",
       "    .dataframe tbody tr th {\n",
       "        vertical-align: top;\n",
       "    }\n",
       "\n",
       "    .dataframe thead th {\n",
       "        text-align: right;\n",
       "    }\n",
       "</style>\n",
       "<table border=\"1\" class=\"dataframe\">\n",
       "  <thead>\n",
       "    <tr style=\"text-align: right;\">\n",
       "      <th></th>\n",
       "      <th>buying</th>\n",
       "      <th>maint</th>\n",
       "      <th>doors</th>\n",
       "      <th>persons</th>\n",
       "      <th>lug_boot</th>\n",
       "      <th>safety</th>\n",
       "    </tr>\n",
       "  </thead>\n",
       "  <tbody>\n",
       "    <tr>\n",
       "      <th>0</th>\n",
       "      <td>vhigh</td>\n",
       "      <td>vhigh</td>\n",
       "      <td>2</td>\n",
       "      <td>2</td>\n",
       "      <td>small</td>\n",
       "      <td>low</td>\n",
       "    </tr>\n",
       "    <tr>\n",
       "      <th>1</th>\n",
       "      <td>vhigh</td>\n",
       "      <td>vhigh</td>\n",
       "      <td>2</td>\n",
       "      <td>2</td>\n",
       "      <td>small</td>\n",
       "      <td>med</td>\n",
       "    </tr>\n",
       "  </tbody>\n",
       "</table>\n",
       "</div>"
      ],
      "text/plain": [
       "  buying  maint doors persons lug_boot safety\n",
       "0  vhigh  vhigh     2       2    small    low\n",
       "1  vhigh  vhigh     2       2    small    med"
      ]
     },
     "execution_count": 23,
     "metadata": {},
     "output_type": "execute_result"
    }
   ],
   "source": [
    "X.head(2)"
   ]
  },
  {
   "cell_type": "code",
   "execution_count": 24,
   "id": "be217822",
   "metadata": {},
   "outputs": [
    {
     "data": {
      "text/plain": [
       "0    unacc\n",
       "1    unacc\n",
       "Name: class, dtype: object"
      ]
     },
     "execution_count": 24,
     "metadata": {},
     "output_type": "execute_result"
    }
   ],
   "source": [
    "y.head(2)"
   ]
  },
  {
   "cell_type": "code",
   "execution_count": 25,
   "id": "468f4efe",
   "metadata": {},
   "outputs": [
    {
     "data": {
      "text/plain": [
       "((1728, 6), (1728,))"
      ]
     },
     "execution_count": 25,
     "metadata": {},
     "output_type": "execute_result"
    }
   ],
   "source": [
    "# check the shape of X and y\n",
    "X.shape, y.shape"
   ]
  },
  {
   "cell_type": "code",
   "execution_count": 26,
   "id": "03abbeae",
   "metadata": {},
   "outputs": [],
   "source": [
    "# split the data into Train and Test set\n",
    "\n",
    "X_train, X_test, y_train, y_test = train_test_split(X, y, test_size = 0.3, random_state = 42)"
   ]
  },
  {
   "cell_type": "code",
   "execution_count": 27,
   "id": "83171a69",
   "metadata": {},
   "outputs": [
    {
     "data": {
      "text/plain": [
       "((1209, 6), (519, 6))"
      ]
     },
     "execution_count": 27,
     "metadata": {},
     "output_type": "execute_result"
    }
   ],
   "source": [
    "# check the shape of X_train and X_test\n",
    "\n",
    "X_train.shape, X_test.shape"
   ]
  },
  {
   "cell_type": "markdown",
   "id": "f39b1658",
   "metadata": {},
   "source": [
    "## Feature Engineering"
   ]
  },
  {
   "cell_type": "code",
   "execution_count": 28,
   "id": "28f9f757",
   "metadata": {
    "scrolled": true
   },
   "outputs": [
    {
     "data": {
      "text/plain": [
       "buying      object\n",
       "maint       object\n",
       "doors       object\n",
       "persons     object\n",
       "lug_boot    object\n",
       "safety      object\n",
       "dtype: object"
      ]
     },
     "execution_count": 28,
     "metadata": {},
     "output_type": "execute_result"
    }
   ],
   "source": [
    "X_train.dtypes"
   ]
  },
  {
   "cell_type": "code",
   "execution_count": 37,
   "id": "15a1d99a",
   "metadata": {},
   "outputs": [
    {
     "data": {
      "text/html": [
       "<div>\n",
       "<style scoped>\n",
       "    .dataframe tbody tr th:only-of-type {\n",
       "        vertical-align: middle;\n",
       "    }\n",
       "\n",
       "    .dataframe tbody tr th {\n",
       "        vertical-align: top;\n",
       "    }\n",
       "\n",
       "    .dataframe thead th {\n",
       "        text-align: right;\n",
       "    }\n",
       "</style>\n",
       "<table border=\"1\" class=\"dataframe\">\n",
       "  <thead>\n",
       "    <tr style=\"text-align: right;\">\n",
       "      <th></th>\n",
       "      <th>buying</th>\n",
       "      <th>maint</th>\n",
       "      <th>doors</th>\n",
       "      <th>persons</th>\n",
       "      <th>lug_boot</th>\n",
       "      <th>safety</th>\n",
       "    </tr>\n",
       "  </thead>\n",
       "  <tbody>\n",
       "    <tr>\n",
       "      <th>1178</th>\n",
       "      <td>med</td>\n",
       "      <td>med</td>\n",
       "      <td>5more</td>\n",
       "      <td>4</td>\n",
       "      <td>big</td>\n",
       "      <td>high</td>\n",
       "    </tr>\n",
       "    <tr>\n",
       "      <th>585</th>\n",
       "      <td>high</td>\n",
       "      <td>high</td>\n",
       "      <td>3</td>\n",
       "      <td>more</td>\n",
       "      <td>small</td>\n",
       "      <td>low</td>\n",
       "    </tr>\n",
       "    <tr>\n",
       "      <th>1552</th>\n",
       "      <td>low</td>\n",
       "      <td>med</td>\n",
       "      <td>3</td>\n",
       "      <td>4</td>\n",
       "      <td>med</td>\n",
       "      <td>med</td>\n",
       "    </tr>\n",
       "    <tr>\n",
       "      <th>1169</th>\n",
       "      <td>med</td>\n",
       "      <td>med</td>\n",
       "      <td>5more</td>\n",
       "      <td>2</td>\n",
       "      <td>big</td>\n",
       "      <td>high</td>\n",
       "    </tr>\n",
       "    <tr>\n",
       "      <th>1033</th>\n",
       "      <td>med</td>\n",
       "      <td>high</td>\n",
       "      <td>4</td>\n",
       "      <td>2</td>\n",
       "      <td>big</td>\n",
       "      <td>med</td>\n",
       "    </tr>\n",
       "  </tbody>\n",
       "</table>\n",
       "</div>"
      ],
      "text/plain": [
       "     buying maint  doors persons lug_boot safety\n",
       "1178    med   med  5more       4      big   high\n",
       "585    high  high      3    more    small    low\n",
       "1552    low   med      3       4      med    med\n",
       "1169    med   med  5more       2      big   high\n",
       "1033    med  high      4       2      big    med"
      ]
     },
     "execution_count": 37,
     "metadata": {},
     "output_type": "execute_result"
    }
   ],
   "source": [
    "X_train.head()"
   ]
  },
  {
   "cell_type": "markdown",
   "id": "ba4fc230",
   "metadata": {},
   "source": [
    "We can see that all the variables are ordinal categorical data type.\n",
    "So we will encode the variables with Ordinal Encording."
   ]
  },
  {
   "cell_type": "code",
   "execution_count": 39,
   "id": "3e17912a",
   "metadata": {},
   "outputs": [
    {
     "data": {
      "text/plain": [
       "OrdinalEncoder(categories=[['low', 'med', 'high', 'vhigh'],\n",
       "                           ['low', 'med', 'high', 'vhigh'],\n",
       "                           ['2', '3', '4', '5more'], ['2', '4', 'more'],\n",
       "                           ['small', 'med', 'big'], ['low', 'med', 'high']])"
      ]
     },
     "execution_count": 39,
     "metadata": {},
     "output_type": "execute_result"
    }
   ],
   "source": [
    "encorder = OrdinalEncoder(categories=\n",
    "                          [['low','med','high','vhigh'],\n",
    "                           ['low','med','high','vhigh'],\n",
    "                         ['2','3','4','5more'],\n",
    "                         ['2','4','more'],\n",
    "                         ['small','med','big'],\n",
    "                          ['low','med','high']]\n",
    "                         )\n",
    "\n",
    "encorder.fit(X_train)\n"
   ]
  },
  {
   "cell_type": "code",
   "execution_count": 41,
   "id": "edf3e7e1",
   "metadata": {},
   "outputs": [],
   "source": [
    "X_train = encorder.transform(X_train)\n",
    "X_test = encorder.transform(X_test)"
   ]
  },
  {
   "cell_type": "code",
   "execution_count": 43,
   "id": "ad1ae7b1",
   "metadata": {},
   "outputs": [
    {
     "data": {
      "text/plain": [
       "array([[1., 1., 3., 1., 2., 2.],\n",
       "       [2., 2., 1., 2., 0., 0.],\n",
       "       [0., 1., 1., 1., 1., 1.],\n",
       "       [1., 1., 3., 0., 2., 2.],\n",
       "       [1., 2., 2., 0., 2., 1.]])"
      ]
     },
     "execution_count": 43,
     "metadata": {},
     "output_type": "execute_result"
    }
   ],
   "source": [
    "X_train[0:5]"
   ]
  },
  {
   "cell_type": "code",
   "execution_count": 45,
   "id": "3e7146ef",
   "metadata": {},
   "outputs": [],
   "source": [
    "# apply label encorder on Target variable\n",
    "\n",
    "lbl_enc = LabelEncoder()\n",
    "\n",
    "y_train = lbl_enc.fit_transform(y_train)\n",
    "y_test = lbl_enc.transform(y_test)"
   ]
  },
  {
   "cell_type": "markdown",
   "id": "74b6f52c",
   "metadata": {},
   "source": [
    "## Decision Tree Classifier with criterion gini index"
   ]
  },
  {
   "cell_type": "code",
   "execution_count": 59,
   "id": "67a9ea5f",
   "metadata": {},
   "outputs": [
    {
     "data": {
      "text/plain": [
       "DecisionTreeClassifier(max_depth=5, random_state=0)"
      ]
     },
     "execution_count": 59,
     "metadata": {},
     "output_type": "execute_result"
    }
   ],
   "source": [
    "model_dt1 = DecisionTreeClassifier(criterion='gini',max_depth=5, random_state=0)\n",
    "\n",
    "model_dt1.fit(X_train,y_train)"
   ]
  },
  {
   "cell_type": "code",
   "execution_count": 60,
   "id": "8b8bb85e",
   "metadata": {},
   "outputs": [],
   "source": [
    "y_pred1 = model_dt1.predict(X_test)"
   ]
  },
  {
   "cell_type": "code",
   "execution_count": 61,
   "id": "3ec20e38",
   "metadata": {},
   "outputs": [
    {
     "name": "stdout",
     "output_type": "stream",
     "text": [
      "accuracy score with criterion gini index: 0.8459\n"
     ]
    }
   ],
   "source": [
    "# Check the test set accuracy\n",
    "\n",
    "print('accuracy score with criterion gini index: {:.4f}'.format(accuracy_score(y_test,y_pred1)))"
   ]
  },
  {
   "cell_type": "code",
   "execution_count": 73,
   "id": "f4fa807f",
   "metadata": {},
   "outputs": [
    {
     "name": "stdout",
     "output_type": "stream",
     "text": [
      "[[ 91  11  16   0]\n",
      " [  8   5   0   6]\n",
      " [ 22   1 335   0]\n",
      " [ 16   0   0   8]]\n"
     ]
    }
   ],
   "source": [
    "print(confusion_matrix(y_test,y_pred1))"
   ]
  },
  {
   "cell_type": "code",
   "execution_count": 74,
   "id": "37563fbd",
   "metadata": {},
   "outputs": [
    {
     "name": "stdout",
     "output_type": "stream",
     "text": [
      "              precision    recall  f1-score   support\n",
      "\n",
      "           0       0.66      0.77      0.71       118\n",
      "           1       0.29      0.26      0.28        19\n",
      "           2       0.95      0.94      0.94       358\n",
      "           3       0.57      0.33      0.42        24\n",
      "\n",
      "    accuracy                           0.85       519\n",
      "   macro avg       0.62      0.58      0.59       519\n",
      "weighted avg       0.85      0.85      0.84       519\n",
      "\n"
     ]
    }
   ],
   "source": [
    "print(classification_report(y_test,y_pred1))"
   ]
  },
  {
   "cell_type": "code",
   "execution_count": 62,
   "id": "6ddadf3d",
   "metadata": {
    "scrolled": true
   },
   "outputs": [
    {
     "name": "stdout",
     "output_type": "stream",
     "text": [
      "accuracy score with criterion gini index: 0.8743\n"
     ]
    }
   ],
   "source": [
    "# Check the train set accuracy\n",
    "\n",
    "y_pred_tr1 = model_dt1.predict(X_train)\n",
    "\n",
    "print('accuracy score with criterion gini index: {:.4f}'.format(accuracy_score(y_train,y_pred_tr1)))"
   ]
  },
  {
   "cell_type": "markdown",
   "id": "a382f168",
   "metadata": {},
   "source": [
    "## Check for overfitting and underfitting"
   ]
  },
  {
   "cell_type": "code",
   "execution_count": 53,
   "id": "9bc0b417",
   "metadata": {},
   "outputs": [
    {
     "name": "stdout",
     "output_type": "stream",
     "text": [
      "Training set score: 0.7916\n",
      "Testing set score: 0.7919\n"
     ]
    }
   ],
   "source": [
    "print('Training set score: {:.4f}'.format(model_dt1.score(X_train,y_train)))\n",
    "print('Testing set score: {:.4f}'.format(model_dt1.score(X_test,y_test)))"
   ]
  },
  {
   "cell_type": "markdown",
   "id": "239d326a",
   "metadata": {},
   "source": [
    "## Visualize decision tree"
   ]
  },
  {
   "cell_type": "code",
   "execution_count": 65,
   "id": "1d5c98cc",
   "metadata": {},
   "outputs": [
    {
     "data": {
      "text/plain": [
       "[Text(313.875, 348.81, 'X[5] <= 0.5\\ngini = 0.452\\nsamples = 1209\\nvalue = [266, 50, 852, 41]'),\n",
       " Text(261.5625, 285.39, 'gini = 0.0\\nsamples = 407\\nvalue = [0, 0, 407, 0]'),\n",
       " Text(366.1875, 285.39, 'X[3] <= 0.5\\ngini = 0.576\\nsamples = 802\\nvalue = [266, 50, 445, 41]'),\n",
       " Text(313.875, 221.97, 'gini = 0.0\\nsamples = 260\\nvalue = [0, 0, 260, 0]'),\n",
       " Text(418.5, 221.97, 'X[0] <= 1.5\\ngini = 0.628\\nsamples = 542\\nvalue = [266, 50, 185, 41]'),\n",
       " Text(209.25, 158.55, 'X[1] <= 0.5\\ngini = 0.646\\nsamples = 264\\nvalue = [139, 50, 34, 41]'),\n",
       " Text(104.625, 95.13, 'X[5] <= 1.5\\ngini = 0.612\\nsamples = 65\\nvalue = [9, 35, 3, 18]'),\n",
       " Text(52.3125, 31.710000000000036, 'gini = 0.456\\nsamples = 31\\nvalue = [9, 21, 1, 0]'),\n",
       " Text(156.9375, 31.710000000000036, 'gini = 0.547\\nsamples = 34\\nvalue = [0, 14, 2, 18]'),\n",
       " Text(313.875, 95.13, 'X[1] <= 1.5\\ngini = 0.53\\nsamples = 199\\nvalue = [130, 15, 31, 23]'),\n",
       " Text(261.5625, 31.710000000000036, 'gini = 0.65\\nsamples = 64\\nvalue = [32, 15, 4, 13]'),\n",
       " Text(366.1875, 31.710000000000036, 'gini = 0.428\\nsamples = 135\\nvalue = [98, 0, 27, 10]'),\n",
       " Text(627.75, 158.55, 'X[1] <= 1.5\\ngini = 0.496\\nsamples = 278\\nvalue = [127, 0, 151, 0]'),\n",
       " Text(523.125, 95.13, 'X[5] <= 1.5\\ngini = 0.382\\nsamples = 144\\nvalue = [107, 0, 37, 0]'),\n",
       " Text(470.8125, 31.710000000000036, 'gini = 0.5\\nsamples = 71\\nvalue = [36, 0, 35, 0]'),\n",
       " Text(575.4375, 31.710000000000036, 'gini = 0.053\\nsamples = 73\\nvalue = [71, 0, 2, 0]'),\n",
       " Text(732.375, 95.13, 'X[0] <= 2.5\\ngini = 0.254\\nsamples = 134\\nvalue = [20, 0, 114, 0]'),\n",
       " Text(680.0625, 31.710000000000036, 'gini = 0.433\\nsamples = 63\\nvalue = [20, 0, 43, 0]'),\n",
       " Text(784.6875, 31.710000000000036, 'gini = 0.0\\nsamples = 71\\nvalue = [0, 0, 71, 0]')]"
      ]
     },
     "execution_count": 65,
     "metadata": {},
     "output_type": "execute_result"
    },
    {
     "data": {
      "image/png": "[encoded data removed]",
      "text/plain": [
       "<Figure size 1080x504 with 1 Axes>"
      ]
     },
     "metadata": {
      "needs_background": "light"
     },
     "output_type": "display_data"
    }
   ],
   "source": [
    "plt.figure(figsize=(15,7))\n",
    "\n",
    "tree.plot_tree(model_dt1.fit(X_train,y_train))"
   ]
  },
  {
   "cell_type": "markdown",
   "id": "237e6f18",
   "metadata": {},
   "source": [
    "## Decision Tree Classifier with criterion entropy"
   ]
  },
  {
   "cell_type": "code",
   "execution_count": 66,
   "id": "46ae8a7d",
   "metadata": {},
   "outputs": [],
   "source": [
    "model_dt2 = DecisionTreeClassifier(criterion='entropy',max_depth=5,random_state=0)"
   ]
  },
  {
   "cell_type": "code",
   "execution_count": 67,
   "id": "32395701",
   "metadata": {},
   "outputs": [
    {
     "data": {
      "text/plain": [
       "DecisionTreeClassifier(criterion='entropy', max_depth=5, random_state=0)"
      ]
     },
     "execution_count": 67,
     "metadata": {},
     "output_type": "execute_result"
    }
   ],
   "source": [
    "model_dt2.fit(X_train,y_train)"
   ]
  },
  {
   "cell_type": "code",
   "execution_count": 68,
   "id": "dbb5ab6d",
   "metadata": {},
   "outputs": [
    {
     "name": "stdout",
     "output_type": "stream",
     "text": [
      "accuracy score with criterion entropy: 0.8690\n"
     ]
    }
   ],
   "source": [
    "y_pred2 = model_dt2.predict(X_test)\n",
    "\n",
    "# Check the test set accuracy\n",
    "\n",
    "print('accuracy score with criterion entropy: {:.4f}'.format(accuracy_score(y_test,y_pred2)))"
   ]
  },
  {
   "cell_type": "code",
   "execution_count": 76,
   "id": "87b4edb2",
   "metadata": {},
   "outputs": [
    {
     "name": "stdout",
     "output_type": "stream",
     "text": [
      "[[ 95   0  16   7]\n",
      " [ 10   0   0   9]\n",
      " [ 23   0 335   0]\n",
      " [  3   0   0  21]]\n"
     ]
    }
   ],
   "source": [
    "print(confusion_matrix(y_test,y_pred2))"
   ]
  },
  {
   "cell_type": "code",
   "execution_count": 77,
   "id": "218b1ee7",
   "metadata": {},
   "outputs": [
    {
     "name": "stdout",
     "output_type": "stream",
     "text": [
      "              precision    recall  f1-score   support\n",
      "\n",
      "           0       0.73      0.81      0.76       118\n",
      "           1       0.00      0.00      0.00        19\n",
      "           2       0.95      0.94      0.94       358\n",
      "           3       0.57      0.88      0.69        24\n",
      "\n",
      "    accuracy                           0.87       519\n",
      "   macro avg       0.56      0.65      0.60       519\n",
      "weighted avg       0.85      0.87      0.86       519\n",
      "\n"
     ]
    }
   ],
   "source": [
    "print(classification_report(y_test,y_pred2))"
   ]
  },
  {
   "cell_type": "code",
   "execution_count": 69,
   "id": "3f09a582",
   "metadata": {},
   "outputs": [
    {
     "name": "stdout",
     "output_type": "stream",
     "text": [
      "accuracy score with criterion entropy: 0.8726\n"
     ]
    }
   ],
   "source": [
    "# Check the train set accuracy\n",
    "\n",
    "y_pred_tr2 = model_dt2.predict(X_train)\n",
    "\n",
    "print('accuracy score with criterion entropy: {:.4f}'.format(accuracy_score(y_train,y_pred_tr2)))"
   ]
  },
  {
   "cell_type": "markdown",
   "id": "8d2064be",
   "metadata": {},
   "source": [
    "## Check for overfitting and underfitting"
   ]
  },
  {
   "cell_type": "code",
   "execution_count": 71,
   "id": "95195a44",
   "metadata": {},
   "outputs": [
    {
     "name": "stdout",
     "output_type": "stream",
     "text": [
      "Training set score: 0.8726\n",
      "Testing set score: 0.8690\n"
     ]
    }
   ],
   "source": [
    "print('Training set score: {:.4f}'.format(model_dt2.score(X_train,y_train)))\n",
    "print('Testing set score: {:.4f}'.format(model_dt2.score(X_test,y_test)))"
   ]
  },
  {
   "cell_type": "code",
   "execution_count": 72,
   "id": "c5ba04f9",
   "metadata": {
    "scrolled": true
   },
   "outputs": [
    {
     "data": {
      "text/plain": [
       "[Text(313.875, 348.81, 'X[5] <= 0.5\\nentropy = 1.192\\nsamples = 1209\\nvalue = [266, 50, 852, 41]'),\n",
       " Text(261.5625, 285.39, 'entropy = 0.0\\nsamples = 407\\nvalue = [0, 0, 407, 0]'),\n",
       " Text(366.1875, 285.39, 'X[3] <= 0.5\\nentropy = 1.469\\nsamples = 802\\nvalue = [266, 50, 445, 41]'),\n",
       " Text(313.875, 221.97, 'entropy = 0.0\\nsamples = 260\\nvalue = [0, 0, 260, 0]'),\n",
       " Text(418.5, 221.97, 'X[0] <= 1.5\\nentropy = 1.632\\nsamples = 542\\nvalue = [266, 50, 185, 41]'),\n",
       " Text(209.25, 158.55, 'X[1] <= 1.5\\nentropy = 1.74\\nsamples = 264\\nvalue = [139, 50, 34, 41]'),\n",
       " Text(104.625, 95.13, 'X[5] <= 1.5\\nentropy = 1.778\\nsamples = 129\\nvalue = [41, 50, 7, 31]'),\n",
       " Text(52.3125, 31.710000000000036, 'entropy = 1.2\\nsamples = 70\\nvalue = [38, 29, 3, 0]'),\n",
       " Text(156.9375, 31.710000000000036, 'entropy = 1.5\\nsamples = 59\\nvalue = [3, 21, 4, 31]'),\n",
       " Text(313.875, 95.13, 'X[5] <= 1.5\\nentropy = 1.078\\nsamples = 135\\nvalue = [98, 0, 27, 10]'),\n",
       " Text(261.5625, 31.710000000000036, 'entropy = 0.959\\nsamples = 63\\nvalue = [39, 0, 24, 0]'),\n",
       " Text(366.1875, 31.710000000000036, 'entropy = 0.822\\nsamples = 72\\nvalue = [59, 0, 3, 10]'),\n",
       " Text(627.75, 158.55, 'X[1] <= 1.5\\nentropy = 0.995\\nsamples = 278\\nvalue = [127, 0, 151, 0]'),\n",
       " Text(523.125, 95.13, 'X[5] <= 1.5\\nentropy = 0.822\\nsamples = 144\\nvalue = [107, 0, 37, 0]'),\n",
       " Text(470.8125, 31.710000000000036, 'entropy = 1.0\\nsamples = 71\\nvalue = [36, 0, 35, 0]'),\n",
       " Text(575.4375, 31.710000000000036, 'entropy = 0.181\\nsamples = 73\\nvalue = [71, 0, 2, 0]'),\n",
       " Text(732.375, 95.13, 'X[0] <= 2.5\\nentropy = 0.608\\nsamples = 134\\nvalue = [20, 0, 114, 0]'),\n",
       " Text(680.0625, 31.710000000000036, 'entropy = 0.902\\nsamples = 63\\nvalue = [20, 0, 43, 0]'),\n",
       " Text(784.6875, 31.710000000000036, 'entropy = 0.0\\nsamples = 71\\nvalue = [0, 0, 71, 0]')]"
      ]
     },
     "execution_count": 72,
     "metadata": {},
     "output_type": "execute_result"
    },
    {
     "data": {
      "image/png": "[encoded data removed]",
      "text/plain": [
       "<Figure size 1080x504 with 1 Axes>"
      ]
     },
     "metadata": {
      "needs_background": "light"
     },
     "output_type": "display_data"
    }
   ],
   "source": [
    "plt.figure(figsize=(15,7))\n",
    "\n",
    "tree.plot_tree(model_dt2.fit(X_train,y_train))"
   ]
  },
  {
   "cell_type": "markdown",
   "id": "a861c386",
   "metadata": {},
   "source": [
    "## Results and Conclusion"
   ]
  },
  {
   "cell_type": "markdown",
   "id": "e63090d2",
   "metadata": {},
   "source": [
    "In this project, I build a Decision-Tree Classifier model to predict the safety of the car. I build two models, one with criterion gini index and another one with criterion entropy. The model yields a very good performance as indicated by the model accuracy in entropy case which was found to be 0.8690.\n",
    "\n",
    "In the model with criterion gini index, the training-set accuracy score is 0.7916 while the test-set accuracy to be 0.7919. These two values are quite comparable. So, there is no sign of overfitting.\n",
    "\n",
    "Similarly, in the model with criterion entropy, the training-set accuracy score is 0.8726 while the test-set accuracy to be 0.8690.We get the same values as in the case with criterion gini. So, there is no sign of overfitting.\n",
    "\n",
    "So the model perfomance is better in case of entropy criterion as the confusion matrix and classification report yields very good model performance."
   ]
  },
  {
   "cell_type": "code",
   "execution_count": null,
   "id": "50ce58a4",
   "metadata": {},
   "outputs": [],
   "source": []
  }
 ],
 "metadata": {
  "kernelspec": {
   "display_name": "Python 3 (ipykernel)",
   "language": "python",
   "name": "python3"
  },
  "language_info": {
   "codemirror_mode": {
    "name": "ipython",
    "version": 3
   },
   "file_extension": ".py",
   "mimetype": "text/x-python",
   "name": "python",
   "nbconvert_exporter": "python",
   "pygments_lexer": "ipython3",
   "version": "3.9.7"
  }
 },
 "nbformat": 4,
 "nbformat_minor": 5
}
